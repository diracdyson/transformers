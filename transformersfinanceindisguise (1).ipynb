{
  "nbformat": 4,
  "nbformat_minor": 0,
  "metadata": {
    "colab": {
      "provenance": [],
      "collapsed_sections": []
    },
    "kernelspec": {
      "name": "python3",
      "display_name": "Python 3"
    },
    "language_info": {
      "name": "python"
    }
  },
  "cells": [
    {
      "cell_type": "code",
      "execution_count": null,
      "metadata": {
        "colab": {
          "resources": {
            "http://localhost:8080/nbextensions/google.colab/files.js": {
              "data": "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",
              "ok": true,
              "headers": [
                [
                  "content-type",
                  "application/javascript"
                ]
              ],
              "status": 200,
              "status_text": ""
            }
          },
          "base_uri": "https://localhost:8080/",
          "height": 86
        },
        "id": "tsJRKbOwE7bL",
        "outputId": "bfdff9cd-08dc-4777-ab88-8e1cec6d0da8"
      },
      "outputs": [
        {
          "output_type": "display_data",
          "data": {
            "text/plain": [
              "<IPython.core.display.HTML object>"
            ],
            "text/html": [
              "\n",
              "     <input type=\"file\" id=\"files-a4fdb2f9-717e-41ac-ba1e-742cba11e3db\" name=\"files[]\" multiple disabled\n",
              "        style=\"border:none\" />\n",
              "     <output id=\"result-a4fdb2f9-717e-41ac-ba1e-742cba11e3db\">\n",
              "      Upload widget is only available when the cell has been executed in the\n",
              "      current browser session. Please rerun this cell to enable.\n",
              "      </output>\n",
              "      <script src=\"/nbextensions/google.colab/files.js\"></script> "
            ]
          },
          "metadata": {}
        },
        {
          "output_type": "stream",
          "name": "stdout",
          "text": [
            "Saving anomalyfreereturns.csv to anomalyfreereturns (3).csv\n"
          ]
        }
      ],
      "source": [
        "from google.colab import files\n",
        "uploaded = files.upload()"
      ]
    },
    {
      "cell_type": "code",
      "source": [
        "import io\n",
        "import pandas as pd\n",
        "returnsant = pd.read_csv(io.BytesIO(uploaded['anomalyfreereturns.csv']))"
      ],
      "metadata": {
        "id": "khycM0seFc8a"
      },
      "execution_count": null,
      "outputs": []
    },
    {
      "cell_type": "code",
      "source": [
        "from sklearn.model_selection import train_test_split\n",
        "X_train, X_test, y_train, y_test= train_test_split(returnsant.drop(\"Hedge Fund\",axis=1),returnsant[\"Hedge Fund\"])"
      ],
      "metadata": {
        "id": "xFxYntz9FkZb"
      },
      "execution_count": null,
      "outputs": []
    },
    {
      "cell_type": "code",
      "source": [
        "import numpy as np\n",
        "print(y_train)\n",
        "def to_sequences(seq_size, obs):\n",
        "    x = []\n",
        "    y = []\n",
        "\n",
        "    for i in range(len(obs)-SEQUENCE_SIZE):\n",
        "        #print(i)\n",
        "        window = obs[i:(i+SEQUENCE_SIZE)]\n",
        "        after_window = obs[i+SEQUENCE_SIZE]\n",
        "        window = [[x] for x in window]\n",
        "        #print(\"{} - {}\".format(window,after_window))\n",
        "        x.append(window)\n",
        "        y.append(after_window)\n",
        "        \n",
        "    return np.array(x),np.array(y)\n"
      ],
      "metadata": {
        "colab": {
          "base_uri": "https://localhost:8080/"
        },
        "id": "lBYOiQLiGLZn",
        "outputId": "9219b666-626a-419a-fb57-ee7dd8489920"
      },
      "execution_count": null,
      "outputs": [
        {
          "output_type": "stream",
          "name": "stdout",
          "text": [
            "31    -0.0049\n",
            "28     0.0095\n",
            "37     0.0672\n",
            "4     -0.0325\n",
            "23     0.0302\n",
            "        ...  \n",
            "130   -0.0137\n",
            "25     0.0189\n",
            "36     0.0550\n",
            "15     0.0250\n",
            "110    0.0033\n",
            "Name: Hedge Fund, Length: 146, dtype: float64\n"
          ]
        }
      ]
    },
    {
      "cell_type": "code",
      "source": [
        "from sklearn.preprocessing import StandardScaler\n",
        "sc=StandardScaler()\n",
        "y_train=np.array(y_train).reshape(-1,1)\n",
        "y_test=np.array(y_test)\n",
        "fit=sc.fit(y_train)"
      ],
      "metadata": {
        "id": "CC_vKzq_Qetu"
      },
      "execution_count": null,
      "outputs": []
    },
    {
      "cell_type": "code",
      "source": [
        "y_train=sc.transform(y_train)\n"
      ],
      "metadata": {
        "id": "Fd2oYQqaURj5"
      },
      "execution_count": null,
      "outputs": []
    },
    {
      "cell_type": "code",
      "source": [
        "print(y_train.shape)"
      ],
      "metadata": {
        "colab": {
          "base_uri": "https://localhost:8080/"
        },
        "id": "zLt_UA1zbQf3",
        "outputId": "819e8c55-a64c-4545-bdb7-cf137dd5281a"
      },
      "execution_count": null,
      "outputs": [
        {
          "output_type": "stream",
          "name": "stdout",
          "text": [
            "(146, 1)\n"
          ]
        }
      ]
    },
    {
      "cell_type": "code",
      "source": [
        "y_train=y_train.reshape(1,-1)"
      ],
      "metadata": {
        "id": "8l0K_Jg9VNtk"
      },
      "execution_count": null,
      "outputs": []
    },
    {
      "cell_type": "code",
      "source": [
        "y_test=y_test.values.reshape(-1,1)"
      ],
      "metadata": {
        "id": "ck0DFN4jVV-N"
      },
      "execution_count": null,
      "outputs": []
    },
    {
      "cell_type": "code",
      "source": [
        "y_test=np.array(y_test).reshape(-1,1)\n",
        "y_test=sc.transform(y_test)"
      ],
      "metadata": {
        "id": "Kki-sqXvVces"
      },
      "execution_count": null,
      "outputs": []
    },
    {
      "cell_type": "code",
      "source": [
        "y_test=y_test.reshape(1,-1)"
      ],
      "metadata": {
        "id": "0XRWLKcvVfkj"
      },
      "execution_count": null,
      "outputs": []
    },
    {
      "cell_type": "code",
      "source": [
        "    \n",
        "SEQUENCE_SIZE = 8\n",
        "\n",
        "x_train,ynew_train = to_sequences(SEQUENCE_SIZE,y_train)\n",
        "x_test,ynew_test = to_sequences(SEQUENCE_SIZE,y_test)\n",
        "\n",
        "print(\"Shape of training set: {}\".format(x_train.shape))\n",
        "print(\"Shape of test set: {}\".format(x_test.shape))"
      ],
      "metadata": {
        "colab": {
          "base_uri": "https://localhost:8080/"
        },
        "id": "-W-t3UM9QrYT",
        "outputId": "6f27b453-d2b6-4641-bf44-7f344d889093"
      },
      "execution_count": null,
      "outputs": [
        {
          "output_type": "stream",
          "name": "stdout",
          "text": [
            "Shape of training set: (138, 8, 1, 1)\n",
            "Shape of test set: (41, 8, 1, 1)\n"
          ]
        }
      ]
    },
    {
      "cell_type": "code",
      "source": [
        "x_train.shape = (138,8,1)"
      ],
      "metadata": {
        "id": "YOgItYctbj1l"
      },
      "execution_count": null,
      "outputs": []
    },
    {
      "cell_type": "code",
      "source": [
        "x_test.shape = ( 41, 8, 1)"
      ],
      "metadata": {
        "id": "4N1ix9bHbjmN"
      },
      "execution_count": null,
      "outputs": []
    },
    {
      "cell_type": "code",
      "source": [
        "from tensorflow import keras\n",
        "from tensorflow.keras import layers\n",
        "\n",
        "def transformer_encoder(inputs,head_size, num_heads,ff_dim,dropout=0):\n",
        "    x=layers.LayerNormalization(epsilon=1e-6)(inputs)\n",
        "    x=layers.MultiHeadAttention(key_dim=head_size, num_heads=num_heads, dropout=dropout)(x,x)\n",
        "    x=layers.Dropout(dropout)(x)\n",
        "    res=x+inputs\n",
        "    \n",
        "    x= layers.LayerNormalization(epsilon=1e-6)(res)\n",
        "    x=layers.Conv1D(filters=ff_dim,kernel_size=1, activation='relu')(x)\n",
        "    x=layers.Dropout(dropout)(x)\n",
        "    x=layers.Conv1D(filters=inputs.shape[-1],kernel_size=1)(x)\n",
        "    return x + res"
      ],
      "metadata": {
        "id": "MACMttdFGOOn"
      },
      "execution_count": null,
      "outputs": []
    },
    {
      "cell_type": "code",
      "source": [
        "def transformer_model(input_shape, head_size, num_heads, ff_dim,num_transformer_blocks, mlp_units, dropout=0, mlp_dropout=0):\n",
        "    inputs=keras.Input(shape=input_shape)\n",
        "    x=inputs\n",
        "    for _ in range(num_transformer_blocks):\n",
        "        x=transformer_encoder( x,head_size, num_heads,ff_dim, dropout)\n",
        "    x=layers.GlobalAveragePooling1D(data_format='channels_first')(x)\n",
        "    for dim in mlp_units:\n",
        "        x=layers.Dense(dim, activation='relu')(x)\n",
        "        x=layers.Dropout(mlp_dropout)(x)\n",
        "    outputs=layers.Dense(1)(x)\n",
        "    return keras.Model(inputs, outputs)"
      ],
      "metadata": {
        "id": "T7pV7qscGQDQ"
      },
      "execution_count": null,
      "outputs": []
    },
    {
      "cell_type": "code",
      "source": [
        "from sklearn.preprocessing import StandardScaler\n",
        "\n",
        "input_shape = x_train.shape[1:]\n",
        "\n",
        "\n",
        "model = transformer_model(\n",
        "    input_shape,\n",
        "    head_size=256,\n",
        "    num_heads=4,\n",
        "    ff_dim=4,\n",
        "    num_transformer_blocks=4,\n",
        "    mlp_units=[128],\n",
        "    mlp_dropout=0.4,\n",
        "    dropout=0.25,\n",
        ")\n",
        "\n",
        "model.compile(\n",
        "    loss=\"mean_squared_error\",\n",
        "    optimizer=keras.optimizers.Adam(learning_rate=1e-4)\n",
        ")\n",
        "#model.summary()\n",
        "\n",
        "callbacks = [keras.callbacks.EarlyStopping(patience=10, \\\n",
        "    restore_best_weights=True)]\n",
        "\n",
        "model.fit(\n",
        "    x_train,\n",
        "    ynew_train,\n",
        "    validation_split=0.2,\n",
        "    epochs=60,\n",
        "    batch_size=10,\n",
        "    callbacks=callbacks,\n",
        ")\n",
        "\n",
        "model.evaluate(x_test, ynew_test, verbose=1)"
      ],
      "metadata": {
        "colab": {
          "base_uri": "https://localhost:8080/"
        },
        "id": "2TtuKPrbGUDu",
        "outputId": "94e04ea1-2478-4500-e12f-1d34a160f7ce"
      },
      "execution_count": null,
      "outputs": [
        {
          "output_type": "stream",
          "name": "stdout",
          "text": [
            "Epoch 1/60\n",
            "11/11 [==============================] - 3s 58ms/step - loss: 1.2577 - val_loss: 0.8876\n",
            "Epoch 2/60\n",
            "11/11 [==============================] - 0s 21ms/step - loss: 1.2914 - val_loss: 0.8764\n",
            "Epoch 3/60\n",
            "11/11 [==============================] - 0s 22ms/step - loss: 1.2701 - val_loss: 0.8671\n",
            "Epoch 4/60\n",
            "11/11 [==============================] - 0s 22ms/step - loss: 1.1665 - val_loss: 0.8576\n",
            "Epoch 5/60\n",
            "11/11 [==============================] - 0s 22ms/step - loss: 1.2894 - val_loss: 0.8522\n",
            "Epoch 6/60\n",
            "11/11 [==============================] - 0s 27ms/step - loss: 1.2118 - val_loss: 0.8488\n",
            "Epoch 7/60\n",
            "11/11 [==============================] - 0s 22ms/step - loss: 1.1297 - val_loss: 0.8462\n",
            "Epoch 8/60\n",
            "11/11 [==============================] - 0s 23ms/step - loss: 1.2699 - val_loss: 0.8435\n",
            "Epoch 9/60\n",
            "11/11 [==============================] - 0s 22ms/step - loss: 1.1157 - val_loss: 0.8417\n",
            "Epoch 10/60\n",
            "11/11 [==============================] - 0s 21ms/step - loss: 1.1457 - val_loss: 0.8374\n",
            "Epoch 11/60\n",
            "11/11 [==============================] - 0s 24ms/step - loss: 1.0525 - val_loss: 0.8328\n",
            "Epoch 12/60\n",
            "11/11 [==============================] - 0s 23ms/step - loss: 1.1502 - val_loss: 0.8284\n",
            "Epoch 13/60\n",
            "11/11 [==============================] - 0s 21ms/step - loss: 1.2783 - val_loss: 0.8268\n",
            "Epoch 14/60\n",
            "11/11 [==============================] - 0s 23ms/step - loss: 1.1315 - val_loss: 0.8250\n",
            "Epoch 15/60\n",
            "11/11 [==============================] - 0s 22ms/step - loss: 1.2107 - val_loss: 0.8224\n",
            "Epoch 16/60\n",
            "11/11 [==============================] - 0s 24ms/step - loss: 1.1729 - val_loss: 0.8205\n",
            "Epoch 17/60\n",
            "11/11 [==============================] - 0s 22ms/step - loss: 1.0889 - val_loss: 0.8213\n",
            "Epoch 18/60\n",
            "11/11 [==============================] - 0s 23ms/step - loss: 1.0274 - val_loss: 0.8186\n",
            "Epoch 19/60\n",
            "11/11 [==============================] - 0s 22ms/step - loss: 1.0679 - val_loss: 0.8160\n",
            "Epoch 20/60\n",
            "11/11 [==============================] - 0s 27ms/step - loss: 1.1957 - val_loss: 0.8149\n",
            "Epoch 21/60\n",
            "11/11 [==============================] - 0s 22ms/step - loss: 1.0752 - val_loss: 0.8133\n",
            "Epoch 22/60\n",
            "11/11 [==============================] - 0s 23ms/step - loss: 1.1168 - val_loss: 0.8127\n",
            "Epoch 23/60\n",
            "11/11 [==============================] - 0s 24ms/step - loss: 1.1226 - val_loss: 0.8143\n",
            "Epoch 24/60\n",
            "11/11 [==============================] - 0s 23ms/step - loss: 1.1338 - val_loss: 0.8126\n",
            "Epoch 25/60\n",
            "11/11 [==============================] - 0s 22ms/step - loss: 1.1201 - val_loss: 0.8107\n",
            "Epoch 26/60\n",
            "11/11 [==============================] - 0s 23ms/step - loss: 1.0079 - val_loss: 0.8096\n",
            "Epoch 27/60\n",
            "11/11 [==============================] - 0s 22ms/step - loss: 1.0309 - val_loss: 0.8079\n",
            "Epoch 28/60\n",
            "11/11 [==============================] - 0s 22ms/step - loss: 1.1271 - val_loss: 0.8091\n",
            "Epoch 29/60\n",
            "11/11 [==============================] - 0s 21ms/step - loss: 1.0954 - val_loss: 0.8091\n",
            "Epoch 30/60\n",
            "11/11 [==============================] - 0s 22ms/step - loss: 1.1194 - val_loss: 0.8088\n",
            "Epoch 31/60\n",
            "11/11 [==============================] - 0s 22ms/step - loss: 1.0096 - val_loss: 0.8076\n",
            "Epoch 32/60\n",
            "11/11 [==============================] - 0s 22ms/step - loss: 1.1046 - val_loss: 0.8076\n",
            "Epoch 33/60\n",
            "11/11 [==============================] - 0s 22ms/step - loss: 1.0140 - val_loss: 0.8073\n",
            "Epoch 34/60\n",
            "11/11 [==============================] - 0s 21ms/step - loss: 0.9916 - val_loss: 0.8074\n",
            "Epoch 35/60\n",
            "11/11 [==============================] - 0s 22ms/step - loss: 1.0302 - val_loss: 0.8065\n",
            "Epoch 36/60\n",
            "11/11 [==============================] - 0s 22ms/step - loss: 0.9693 - val_loss: 0.8057\n",
            "Epoch 37/60\n",
            "11/11 [==============================] - 0s 23ms/step - loss: 0.9794 - val_loss: 0.8043\n",
            "Epoch 38/60\n",
            "11/11 [==============================] - 0s 22ms/step - loss: 1.0785 - val_loss: 0.8046\n",
            "Epoch 39/60\n",
            "11/11 [==============================] - 0s 23ms/step - loss: 0.9964 - val_loss: 0.8060\n",
            "Epoch 40/60\n",
            "11/11 [==============================] - 0s 21ms/step - loss: 1.0261 - val_loss: 0.8060\n",
            "Epoch 41/60\n",
            "11/11 [==============================] - 0s 21ms/step - loss: 1.0814 - val_loss: 0.8051\n",
            "Epoch 42/60\n",
            "11/11 [==============================] - 0s 21ms/step - loss: 1.0850 - val_loss: 0.8045\n",
            "Epoch 43/60\n",
            "11/11 [==============================] - 0s 22ms/step - loss: 1.0640 - val_loss: 0.8059\n",
            "Epoch 44/60\n",
            "11/11 [==============================] - 0s 21ms/step - loss: 0.9273 - val_loss: 0.8074\n",
            "Epoch 45/60\n",
            "11/11 [==============================] - 0s 22ms/step - loss: 0.9528 - val_loss: 0.8071\n",
            "Epoch 46/60\n",
            "11/11 [==============================] - 0s 22ms/step - loss: 1.0347 - val_loss: 0.8073\n",
            "Epoch 47/60\n",
            "11/11 [==============================] - 0s 23ms/step - loss: 0.9703 - val_loss: 0.8101\n",
            "2/2 [==============================] - 0s 11ms/step - loss: 1.6505\n"
          ]
        },
        {
          "output_type": "execute_result",
          "data": {
            "text/plain": [
              "1.6504762172698975"
            ]
          },
          "metadata": {},
          "execution_count": 33
        }
      ]
    },
    {
      "cell_type": "code",
      "source": [
        "import matplotlib.pyplot as plt\n",
        "predict=model.predict(x_train)\n",
        "plt.figure()\n",
        "plt.plot(np.arange(len(predict)),sc.inverse_transform(predict),c='r')\n",
        "plt.plot(np.arange(len(predict)),sc.inverse_transform(ynew_train),c='b')"
      ],
      "metadata": {
        "colab": {
          "base_uri": "https://localhost:8080/",
          "height": 288
        },
        "id": "FURt1onlGfBS",
        "outputId": "5c3a97eb-052b-4e4d-b4af-27c714aa6c08"
      },
      "execution_count": null,
      "outputs": [
        {
          "output_type": "execute_result",
          "data": {
            "text/plain": [
              "[<matplotlib.lines.Line2D at 0x7f2aeac99850>]"
            ]
          },
          "metadata": {},
          "execution_count": 34
        },
        {
          "output_type": "display_data",
          "data": {
            "text/plain": [
              "<Figure size 432x288 with 1 Axes>"
            ],
            "image/png": "[encoded data removed]"
          },
          "metadata": {
            "needs_background": "light"
          }
        }
      ]
    },
    {
      "cell_type": "code",
      "source": [],
      "metadata": {
        "id": "b_5LjmDdK-Rp"
      },
      "execution_count": null,
      "outputs": []
    }
  ]
}